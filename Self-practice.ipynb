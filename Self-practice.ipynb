{
 "cells": [
  {
   "cell_type": "markdown",
   "id": "e0668d43",
   "metadata": {},
   "source": [
    "# Practicing list manipulation and Conditional Statements : Turning Numbers to words - Numbers less than 1000"
   ]
  },
  {
   "cell_type": "markdown",
   "id": "252cbc29",
   "metadata": {},
   "source": [
    "# METHOD 1 - Using Lists\n"
   ]
  },
  {
   "cell_type": "code",
   "execution_count": 2,
   "id": "a44f0bfa",
   "metadata": {},
   "outputs": [],
   "source": [
    "#converting any number to written words\n",
    "units = ['one', 'two', 'three', 'four', 'five', 'six', 'seven', 'eight', 'nine' ]\n",
    "ten = ['ten', 'twenty', 'thirty', 'forty', 'fifty', 'sixty', 'seventy', 'eighty', 'ninety']\n",
    "new = ['eleven', 'twelve', 'thirteen', 'fourteen', 'fifteen', 'sixteen', 'seventeen', 'eighteen', 'nineteen']\n",
    "hundreds = 'hundred'\n"
   ]
  },
  {
   "cell_type": "code",
   "execution_count": 5,
   "id": "e3b71eb7",
   "metadata": {},
   "outputs": [],
   "source": [
    "#creating a function called feed a number\n",
    "def feedanumber(number):\n",
    "    \n",
    "    # check for the number of digits (if it's a 1 digit, 2 digit or 3 digit number)\n",
    "    if len(str(number)) == 1:\n",
    "        index = number - 1\n",
    "        return units[index]\n",
    "    elif len(str(number)) == 2:\n",
    "    # if the 2 digit number is a factor of 10, go ahead and print a result else check other if statement blocks (elif)\n",
    "        if number % 10 == 0:\n",
    "            return ten[number// 10 - 1]\n",
    "    #if the digit is greater than 10 and less than 20, print a certian statement\n",
    "        elif number // 10 == 1 and number % 10 > 0:\n",
    "            return new[(number%10) - 1].title()\n",
    "        else:\n",
    "            first_index = (number // 10) - 1\n",
    "            second_index = (number % 10) - 1\n",
    "            return ten[first_index].title() + ' '+ units[second_index].title()\n",
    "    # if the number has 3 digits, run the code below\n",
    "    elif len(str(number)) == 3:\n",
    "        if number % 100 == 0:\n",
    "            return units[(number// 100) - 1].title() + ' ' + hundreds\n",
    "        else:\n",
    "            first_index = (number // 100) - 1 \n",
    "            remainder = number % 100\n",
    "            if remainder < 10:\n",
    "                return units[first_index].title() + ' '+  hundreds + ' ' + 'and ' + units[remainder - 1]\n",
    "            elif remainder % 10 == 0:\n",
    "                return units[first_index].title() + ' '+  hundreds + ' ' + 'and ' + ten[(remainder//10) - 1]\n",
    "            elif remainder // 10 == 1 and remainder % 10 > 0:\n",
    "                return units[first_index].title() + ' '+  hundreds + ' ' + 'and ' + new[(remainder % 10) - 1]\n",
    "            else:\n",
    "                second_index = (remainder // 10) - 1\n",
    "                third_index = (remainder % 10) - 1\n",
    "                return units[first_index].title() + ' '+ \\\n",
    "            hundreds + ' ' + 'and ' + ten[second_index] + ' ' + units[third_index]\n",
    "    else :\n",
    "        return \"Input a number less than 1000\""
   ]
  },
  {
   "cell_type": "code",
   "execution_count": 4,
   "id": "f7a5853f",
   "metadata": {},
   "outputs": [
    {
     "data": {
      "text/plain": [
       "'Five hundred and fifty two'"
      ]
     },
     "execution_count": 4,
     "metadata": {},
     "output_type": "execute_result"
    }
   ],
   "source": [
    "feedanumber(552)"
   ]
  },
  {
   "cell_type": "markdown",
   "id": "ba3bbd26",
   "metadata": {},
   "source": [
    "# METHOD 2 - Using Dictionaries"
   ]
  },
  {
   "cell_type": "code",
   "execution_count": null,
   "id": "b4332aec",
   "metadata": {},
   "outputs": [],
   "source": []
  }
 ],
 "metadata": {
  "kernelspec": {
   "display_name": "Python 3 (ipykernel)",
   "language": "python",
   "name": "python3"
  },
  "language_info": {
   "codemirror_mode": {
    "name": "ipython",
    "version": 3
   },
   "file_extension": ".py",
   "mimetype": "text/x-python",
   "name": "python",
   "nbconvert_exporter": "python",
   "pygments_lexer": "ipython3",
   "version": "3.9.12"
  }
 },
 "nbformat": 4,
 "nbformat_minor": 5
}
